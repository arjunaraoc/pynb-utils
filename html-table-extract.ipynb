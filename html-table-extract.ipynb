{
 "cells": [
  {
   "cell_type": "code",
   "execution_count": null,
   "metadata": {},
   "outputs": [],
   "source": [
    "#code file: \"html-table-extract.ipynb\"\n",
    "#code snippet to parse html and extract part of a table\n",
    "!pip3 install beautifulsoup4"
   ]
  },
  {
   "cell_type": "code",
   "execution_count": null,
   "metadata": {},
   "outputs": [],
   "source": [
    "fname=\"pincodetoVillageMapping2024 06 09 17 46 32 189.htm\"\n",
    "#fname=\"pincodetovillagemappingextract.htm\"\n",
    "from bs4 import BeautifulSoup\n",
    "import pandas as pd\n",
    "\n",
    "# Replace 'yourfile.html' with the path to your actual HTML file\n",
    "\n",
    "# Load the HTML content,\n",
    "def find_table_start(file_path):\n",
    "    with open(file_path, 'r', encoding='utf-8') as file:\n",
    "        for line_number, line in enumerate(file, start=1):\n",
    "            if '<table class=\"style_3\"' in line:\n",
    "                print(f\"Start of <table> tag found at line {line_number}\")\n",
    "                return line_number\n",
    "    print(\"No <table> tag found in the file.\")\n",
    "    return None\n",
    "\n",
    "line_number=find_table_start(fname)\n",
    "\n",
    "complete=False    \n",
    "with open(fname, 'r', encoding='utf-8') as file:            \n",
    "    for line_x in range(line_number):\n",
    "        line=file.readline()\n",
    "    concatenated_string =\"\"\n",
    "    while '<tr' not in line :\n",
    "        line=file.readline()\n",
    "        \n",
    "    concatenated_string+=line\n",
    "    while '/tr>' not in line :\n",
    "        line=file.readline()\n",
    "        concatenated_string+=line\n",
    "    print(concatenated_string)\n",
    "    soup = BeautifulSoup(concatenated_string, 'html.parser')           \n",
    "          \n",
    "\n",
    "    cells = soup.find_all(['td', 'th'])\n",
    "       \n",
    "    header=[]\n",
    "    for cell in cells:\n",
    "             header.append(cell.get_text(strip=True))\n",
    "    print(header)\n",
    "\n",
    "    data=[]       \n",
    "    while True:\n",
    "    # process data rows\n",
    "        concatenated_string =\"\"\n",
    "        while '<tr' not in line :\n",
    "            line=file.readline()\n",
    "\n",
    "        concatenated_string+=line\n",
    "        while '/tr>' not in line :\n",
    "            line=file.readline()\n",
    "            concatenated_string+=line\n",
    "        print(concatenated_string)\n",
    "        soup = BeautifulSoup(concatenated_string, 'html.parser')           \n",
    "\n",
    "\n",
    "        cells = soup.find_all(['td', 'th'])\n",
    "        row=[]\n",
    "        # Print each cell's text content\n",
    "        for cell in cells:\n",
    "                 row.append(cell.get_text(strip=True))\n",
    "        print(row)\n",
    "        if row[1]=='Andhra Pradesh' :\n",
    "           data.append(row)\n",
    "        if row[1][:4]>'Andh':\n",
    "           complete=True\n",
    "           break\n",
    "\n"
   ]
  },
  {
   "cell_type": "code",
   "execution_count": null,
   "metadata": {},
   "outputs": [],
   "source": [
    "df=pd.DataFrame(data,columns=header)"
   ]
  },
  {
   "cell_type": "code",
   "execution_count": null,
   "metadata": {},
   "outputs": [],
   "source": [
    "df.to_csv(\"ap-censusvillage-pincode.csv\", index=False)"
   ]
  }
 ],
 "metadata": {
  "kernelspec": {
   "display_name": "Python 3 (ipykernel)",
   "language": "python",
   "name": "python3"
  },
  "language_info": {
   "codemirror_mode": {
    "name": "ipython",
    "version": 3
   },
   "file_extension": ".py",
   "mimetype": "text/x-python",
   "name": "python",
   "nbconvert_exporter": "python",
   "pygments_lexer": "ipython3",
   "version": "3.10.12"
  }
 },
 "nbformat": 4,
 "nbformat_minor": 2
}
